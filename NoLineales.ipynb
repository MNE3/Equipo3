{
 "cells": [
  {
   "cell_type": "markdown",
   "metadata": {},
   "source": [
    "# Ecuaciones no lineales\n",
    "\n",
    "## ¿Qué son?\n",
    "\n",
    "Llamamos ecuacion no lineal a cualquier ecuación en la que alguna de sus incógnitas no es de primer grado, involucra polinomios de segundo grado, raíces, exponenciales, funciones trigonométricas, logaritmos, etcétera.\n",
    "\n",
    "## ¿Cuál es su solución?\n",
    "\n",
    "El propósito de los métodos descritos en esta libreta es encontrar las raíces de la ecuación ingresada a cada método, definimos a una raíz $ x $ de una función $ f(x) $, de tal manera que $ f(x) = 0$\n",
    "\n",
    "Exissten múltiples métodos como:\n",
    "   * Gráfico\n",
    "   * Bisectriz\n",
    "   * Punto Fijo o Sucesiones Sucesivas\n",
    "   * Newton Raphson\n",
    "   * Falsa Posición\n",
    "   * Secante\n",
    "\n",
    "\n"
   ]
  },
  {
   "cell_type": "code",
   "execution_count": 3,
   "metadata": {
    "tags": []
   },
   "outputs": [
    {
     "data": {
      "text/plain": [
       "{'divide': 'warn', 'over': 'warn', 'under': 'ignore', 'invalid': 'warn'}"
      ]
     },
     "execution_count": 3,
     "metadata": {},
     "output_type": "execute_result"
    }
   ],
   "source": [
    "%matplotlib widget\n",
    "import numpy as np\n",
    "from numpy.linalg import norm\n",
    "import sympy as sp\n",
    "import matplotlib.pyplot as plt\n",
    "from scipy import optimize\n",
    "from IPython.display import Math,display\n",
    "sp.init_printing(use_latex='mathjax')\n",
    "import warnings\n",
    "import math\n",
    "import ipywidgets as widgets\n",
    "#warnings.filterwarnings('error')\n",
    "np.seterr(all='print')\n"
   ]
  },
  {
   "cell_type": "markdown",
   "metadata": {},
   "source": [
    "## Método Gráfico\n",
    "\n",
    "### ¿Cómo funciona?\n",
    "\n",
    "El método gráfico sirve para poder obtener una aproximación a $f(x)=0$ al graficar la función y tomar nota de cuando se cruza el eje de las abscisas $x$, observando para qué valores de $x$, $f(x)=0$, cambiando el signo.\n",
    "\n",
    "### ¿Cómo lo puedo usar?\n",
    "\n",
    "Para usar este método, hay que ejecutar la **celda** de código siguiente e ingresar una función.\n",
    "\n",
    "El formato de funciones aceptado en esta libreta es el siguiente:\n",
    "   * Para representar productos $3x$ hay que ingresar ```3*x```\n",
    "   * Para representar funciones trigonométricas $sen(x)$ hay que usar ```sin(x)```, las demás permanecen igual\n",
    "   * Para representar exponenciales $e^x$ hay que usar ```exp(x)``` salvo un caso en específico que se detalla adelante.\n",
    "   * Para representar potencias $x^2$ hay que usar ```x^2```\n",
    "   \n",
    "Un ejemplo de una ecuación ingresada sería $3x-sin(x)+e^x$ es: ```3*x -sin(x)+exp(x)```\n",
    "\n",
    "Posterior a ingresar la función, se tendrá que especificar el rango de valores a evaluar en $f(x)$, a continuación se obtendrá la gráfica de $f(x)$ y se marcarán en rojo los puntos donde se realiza el cambio de signo."
   ]
  },
  {
   "cell_type": "code",
   "execution_count": 4,
   "metadata": {
    "tags": []
   },
   "outputs": [
    {
     "name": "stdin",
     "output_type": "stream",
     "text": [
      "Ingrese la función:  2*x\n"
     ]
    },
    {
     "data": {
      "text/latex": [
       "$\\displaystyle 2 x$"
      ],
      "text/plain": [
       "<IPython.core.display.Math object>"
      ]
     },
     "metadata": {},
     "output_type": "display_data"
    },
    {
     "name": "stdin",
     "output_type": "stream",
     "text": [
      "Ingrese el límite inferior del rango a evaluar:  2\n",
      "Ingrese el límite mayor del rango a evaluar:  5\n"
     ]
    },
    {
     "name": "stdout",
     "output_type": "stream",
     "text": [
      "Rango establecido de 2.0 a 5.0\n"
     ]
    },
    {
     "data": {
      "application/vnd.jupyter.widget-view+json": {
       "model_id": "d3d3a8a21a4f440c9c76bff0475544dc",
       "version_major": 2,
       "version_minor": 0
      },
      "text/html": [
       "\n",
       "            <div style=\"display: inline-block;\">\n",
       "                <div class=\"jupyter-widgets widget-label\" style=\"text-align: center;\">\n",
       "                    Figure\n",
       "                </div>\n",
       "                <img src='data:image/png;base64,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' width=640.0/>\n",
       "            </div>\n",
       "        "
      ],
      "text/plain": [
       "Canvas(toolbar=Toolbar(toolitems=[('Home', 'Reset original view', 'home', 'home'), ('Back', 'Back to previous …"
      ]
     },
     "metadata": {},
     "output_type": "display_data"
    }
   ],
   "source": [
    "x, y, z = sp.symbols(\"x y z\")\n",
    "fun_graf = input('Ingrese la función: ')\n",
    "fun_sim_graf = sp.sympify(fun_graf)\n",
    "display(Math(sp.latex(fun_sim_graf)))\n",
    "check_graf = True\n",
    "\n",
    "menor_graf = float(input(\"Ingrese el límite inferior del rango a evaluar: \"))\n",
    "mayor_graf = float(input(\"Ingrese el límite mayor del rango a evaluar: \"))\n",
    "rango_graf = np.arange(menor_graf, (mayor_graf+1))\n",
    "f_np_graf = sp.lambdify(x, fun_sim_graf, \"numpy\")\n",
    "resultado_np_graf = f_np_graf(rango_graf) \n",
    "signs = np.sign(resultado_np_graf)\n",
    "signs[signs == 0] = -1\n",
    "cruces_cero_graf = np.where(np.diff(signs))[0]\n",
    "cambio = []  \n",
    "anterior_cambio = [] \n",
    "\n",
    "for a in range(len(cruces_cero_graf)):\n",
    "    temporal = cruces_cero_graf[a]\n",
    "    anterior_cambio.append(resultado_np_graf[temporal])\n",
    "    cambio.append(resultado_np_graf[temporal+1])\n",
    "\n",
    "rango_nuevo = []\n",
    "print(\"Rango establecido de\", menor_graf, \"a\", mayor_graf)\n",
    "for a in range(0, len(cruces_cero_graf)):\n",
    "    print(\"Para x en: \", rango_graf[cruces_cero_graf[a]],\n",
    "          \", f(x) vale: \", anterior_cambio[a])\n",
    "    print(\"Para x en: \", rango_graf[cruces_cero_graf[a]+1],\n",
    "          \", f(x) vale: \", cambio[a], \" cambio de signo\")\n",
    "    rango_nuevo.append(rango_graf[cruces_cero_graf[a]+1])\n",
    "if(len(cruces_cero_graf) == 1):\n",
    "    print(\"Se recomienda aumentar el rango de evaluación\")\n",
    "\n",
    "positivos = [] \n",
    "negativos = [] \n",
    "\n",
    "for i in range(int(menor_graf), int(mayor_graf)):\n",
    "    if f_np_graf(i) > 0:\n",
    "        if f_np_graf(i) in cambio:\n",
    "            positivos.append(i)\n",
    "        elif f_np_graf(i) in anterior_cambio:\n",
    "            positivos.append(i)\n",
    "    else:\n",
    "        if f_np_graf(i) in cambio:\n",
    "            negativos.append(i)\n",
    "        elif f_np_graf(i) in anterior_cambio:\n",
    "            negativos.append(i)\n",
    "\n",
    "fig = plt.figure()\n",
    "ax = plt.gca()  # get current axis\n",
    "ax.plot(rango_graf, resultado_np_graf)\n",
    "ax.grid(True)\n",
    "ax.spines['left'].set_position('zero')\n",
    "ax.spines['right'].set_color('none')\n",
    "ax.spines['bottom'].set_position('zero')\n",
    "ax.spines['top'].set_color('none')\n",
    "plt.plot(rango_nuevo, cambio, 'ro', label='Plot pogi')\n",
    "plt.show()"
   ]
  },
  {
   "cell_type": "markdown",
   "metadata": {},
   "source": [
    "## Bisectriz\n",
    "\n",
    "### ¿Cómo funciona?\n",
    "\n",
    "Una bisectriz es una recta que corta los puntos de un plano de  tal manera que el lugar de corte sea equidistante a los extremos del plano, dividiendo siempre a la mitad.\n",
    "\n",
    "Es un proceso iterativo que se repite hasta encontrar un cambio de signo, obteniendo una mejor aproximación a la raíz.\n",
    "\n",
    "Su fórmula es $x = \\dfrac{a+b}{2}$\n",
    "\n",
    "\n",
    "Donde $a$ es el valor donde se encuentra el signo positivo y $b$ el valor donde se encuentra el signo negativo.\n",
    "\n",
    "### ¿Cómo lo puedo usar?\n",
    "\n",
    "Para usar el método de la bisectriz es necesario haber encontrado los puntos donde se cruza x, basándose en el método gráfico. Es **imperante** ejecutar el método anterior para encontrar la tabla de valores"
   ]
  },
  {
   "cell_type": "code",
   "execution_count": 6,
   "metadata": {
    "tags": []
   },
   "outputs": [],
   "source": [
    "if check_graf:\n",
    "    for i in range(len(positivos)):\n",
    "        a = positivos[i]  # a siempre es donde se comporta positivo\n",
    "        b = negativos[i]  # b siempre es donde se comporta negativo\n",
    "        root = optimize.bisect(f_np_graf, a, b)\n",
    "        print(\"La raíz entre a:\", a, \"y b:\", b, \"es:\", root)\n",
    "else:\n",
    "    print(\"La función ingresada no se puede resolver por este método\")"
   ]
  },
  {
   "cell_type": "markdown",
   "metadata": {},
   "source": [
    "## Punto Fijo\n",
    "\n",
    "Hay que usar e^x para el exponencial"
   ]
  },
  {
   "cell_type": "code",
   "execution_count": 8,
   "metadata": {
    "tags": []
   },
   "outputs": [
    {
     "name": "stdin",
     "output_type": "stream",
     "text": [
      "Ingrese la función a integrar 2*x\n"
     ]
    },
    {
     "data": {
      "text/latex": [
       "$\\displaystyle 2 x$"
      ],
      "text/plain": [
       "<IPython.core.display.Math object>"
      ]
     },
     "metadata": {},
     "output_type": "display_data"
    },
    {
     "name": "stdin",
     "output_type": "stream",
     "text": [
      "Ingrese el límite inferior del rango de evaluación 2\n",
      "Ingrese el límite superior del rango de evaluación 5\n",
      "Ingrese el número de subintervalos de la integral 2\n"
     ]
    },
    {
     "name": "stdout",
     "output_type": "stream",
     "text": [
      "x =  x\n",
      "El resultado de la integral es:  21.0\n"
     ]
    }
   ],
   "source": [
    "### import numpy as np\n",
    "import sympy as sp\n",
    "import math\n",
    "import matplotlib.pyplot as plt\n",
    "from mpmath import findroot\n",
    "def integral_iterar(integral,a,b,n):\n",
    "    h = (b-a)/n\n",
    "    afuera = h/2\n",
    "    primer_termino = integral(a)\n",
    "    terminos_sumatoria = []\n",
    "    for i in range (1,n):\n",
    "        i_h = i*h\n",
    "        a_sumada = a + i_h\n",
    "        termino_suma = integral(a_sumada)\n",
    "        terminos_sumatoria.append(termino_suma)\n",
    "    segundo_termino_sin_sumar = np.multiply(2, terminos_sumatoria)\n",
    "    segundo_termino_sumado = np.sum(segundo_termino_sin_sumar)\n",
    "    tercer_termino = integral(b)\n",
    "    suma_interna = primer_termino + segundo_termino_sumado + tercer_termino\n",
    "    resultado = afuera * suma_interna\n",
    "    print(\"x = \",x)\n",
    "    return resultado\n",
    "x, y, z = sp.symbols(\"x y z\")\n",
    "funcion_string = input(\"Ingrese la función a integrar\")\n",
    "funcion_sp = sp.sympify(funcion_string)\n",
    "display(Math(sp.latex(funcion_sp)))\n",
    "funcion_integrar_np = sp.lambdify(x,funcion_sp, \"numpy\")\n",
    "a = float(input(\"Ingrese el límite inferior del rango de evaluación\"))\n",
    "b = float(input(\"Ingrese el límite superior del rango de evaluación\"))\n",
    "n = int(input(\"Ingrese el número de subintervalos de la integral\"))\n",
    "resultado = integral_iterar(funcion_integrar_np,a,b,n )\n",
    "#cambiar el nombre de la función\n",
    "print(\"El resultado de la integral es: \",resultado)\n"
   ]
  },
  {
   "cell_type": "markdown",
   "metadata": {},
   "source": [
    "## Punto Fijo\n",
    "\n",
    "Hay que usar e^x para el exponencial"
   ]
  },
  {
   "cell_type": "code",
   "execution_count": 12,
   "metadata": {
    "tags": []
   },
   "outputs": [
    {
     "name": "stdin",
     "output_type": "stream",
     "text": [
      "Para dejar que el sistema despeje su ecuación ingrese 1, de lo contrario ingrese 2 y su ecuación ya despejada. Mejores resultados para la ecuación despejada por el usuario 1\n",
      "Ingrese la función:  e^x\n"
     ]
    },
    {
     "data": {
      "text/latex": [
       "$\\displaystyle e^{x}$"
      ],
      "text/plain": [
       "<IPython.core.display.Math object>"
      ]
     },
     "metadata": {},
     "output_type": "display_data"
    },
    {
     "name": "stdout",
     "output_type": "stream",
     "text": [
      "Despejes de la ecuación para x:\n",
      "\n"
     ]
    },
    {
     "data": {
      "text/latex": [
       "$\\displaystyle \\left[ \\right]$"
      ],
      "text/plain": [
       "<IPython.core.display.Math object>"
      ]
     },
     "metadata": {},
     "output_type": "display_data"
    },
    {
     "name": "stdin",
     "output_type": "stream",
     "text": [
      "¿Qué despeje desea usar? 2\n"
     ]
    },
    {
     "ename": "IndexError",
     "evalue": "list index out of range",
     "output_type": "error",
     "traceback": [
      "\u001b[1;31m---------------------------------------------------------------------------\u001b[0m",
      "\u001b[1;31mIndexError\u001b[0m                                Traceback (most recent call last)",
      "\u001b[1;32m~\\AppData\\Local\\Temp/ipykernel_11972/2892548748.py\u001b[0m in \u001b[0;36m<module>\u001b[1;34m\u001b[0m\n\u001b[0;32m     89\u001b[0m \u001b[1;33m\u001b[0m\u001b[0m\n\u001b[0;32m     90\u001b[0m     \u001b[0mopcion\u001b[0m \u001b[1;33m=\u001b[0m \u001b[0mint\u001b[0m\u001b[1;33m(\u001b[0m\u001b[0minput\u001b[0m\u001b[1;33m(\u001b[0m\u001b[1;34m\"¿Qué despeje desea usar?\"\u001b[0m\u001b[1;33m)\u001b[0m\u001b[1;33m)\u001b[0m \u001b[1;33m-\u001b[0m \u001b[1;36m1\u001b[0m\u001b[1;33m\u001b[0m\u001b[1;33m\u001b[0m\u001b[0m\n\u001b[1;32m---> 91\u001b[1;33m     \u001b[0mdespeje\u001b[0m \u001b[1;33m=\u001b[0m \u001b[0mecuaciones\u001b[0m\u001b[1;33m[\u001b[0m\u001b[0mopcion\u001b[0m\u001b[1;33m]\u001b[0m\u001b[1;33m\u001b[0m\u001b[1;33m\u001b[0m\u001b[0m\n\u001b[0m\u001b[0;32m     92\u001b[0m     \u001b[0mfuncion_np_pto\u001b[0m \u001b[1;33m=\u001b[0m \u001b[0msp\u001b[0m\u001b[1;33m.\u001b[0m\u001b[0mlambdify\u001b[0m\u001b[1;33m(\u001b[0m\u001b[0mx\u001b[0m\u001b[1;33m,\u001b[0m \u001b[0mdespeje\u001b[0m\u001b[1;33m,\u001b[0m \u001b[1;34m'numpy'\u001b[0m\u001b[1;33m)\u001b[0m\u001b[1;33m\u001b[0m\u001b[1;33m\u001b[0m\u001b[0m\n\u001b[0;32m     93\u001b[0m     \u001b[0mpunto_fijo\u001b[0m\u001b[1;33m(\u001b[0m\u001b[0mfuncion_np_pto\u001b[0m\u001b[1;33m)\u001b[0m\u001b[1;33m\u001b[0m\u001b[1;33m\u001b[0m\u001b[0m\n",
      "\u001b[1;31mIndexError\u001b[0m: list index out of range"
     ]
    }
   ],
   "source": [
    "def listToString(s):\n",
    "\n",
    "    # initialize an empty string\n",
    "    str1 = \"\"\n",
    "\n",
    "    # return string\n",
    "    return (str1.join(s))\n",
    "\n",
    "\n",
    "def punto_fijo(f, e=0.00001):\n",
    "    max_iter = 100\n",
    "    error = 1\n",
    "    x_start = 0\n",
    "    i = 0\n",
    "    xp = []\n",
    "    while (error > e and i < max_iter):\n",
    "        x_result = f(x_start)\n",
    "        resultado = x_result[0]\n",
    "        error = abs(resultado - x_start)\n",
    "        x_start = resultado\n",
    "        x_real = x_start.real\n",
    "        xp.append(x_start)\n",
    "        i += 1\n",
    "        if(np.isnan(resultado)):\n",
    "            print(\"Error interno del programa\")\n",
    "            print(\"Intenta con el otro despeje\")\n",
    "            break\n",
    "        else:\n",
    "            print(\"Iteración: \" + str(i) + \" Resultado: \" +\n",
    "              str(x_real) + \" Error: {:.10f}\".format(round(error, 10)))\n",
    "\n",
    "    print(\"El resultado del método es:\", resultado)\n",
    "\n",
    "\n",
    "w, x, y, z = sp.symbols(\"w x y z\")\n",
    "decision = int(input('Para dejar que el sistema despeje su ecuación ingrese 1, de lo contrario ingrese 2 y su ecuación ya despejada. Mejores resultados para la ecuación despejada por el usuario'))\n",
    "if decision == 1:\n",
    "    fun_pto = input('Ingrese la función: ')\n",
    "    fun_sim_pto = sp.sympify(fun_pto)\n",
    "    display(Math(sp.latex(fun_sim_pto)))\n",
    "\n",
    "    #código para poder separar la ecuación en variables\n",
    "    #tomamos el string del usuario, lo pasamos a una lista e iteramos buscando las x, sustituyendolas en la lista\n",
    "    #pasandolas a string de nuevo y luego a funciones simbólicas\n",
    "    #no es lo más eficiente pero es la implementaicón que se me ocurrió\n",
    "    fun_sim_W = sp.sympify(fun_pto)\n",
    "    fun_sim_Y = sp.sympify(fun_pto)\n",
    "    fun_sim_Z = sp.sympify(fun_pto)\n",
    "    contador = 0\n",
    "    lista_fun_pto = list(fun_pto)\n",
    "    listaCopia = list(fun_pto)\n",
    "    listaCopia2 = list(fun_pto)\n",
    "    listaCopia3 = list(fun_pto)\n",
    "    for elemento in range(len(lista_fun_pto)):\n",
    "        if lista_fun_pto[elemento] == 'x':\n",
    "            if contador == 0:\n",
    "                listaCopia[elemento] = 'w'\n",
    "                exp = listToString(listaCopia)\n",
    "                fun_sim_W = sp.sympify(exp)\n",
    "                contador += 1\n",
    "            elif contador == 1:\n",
    "                listaCopia2[elemento] = 'y'\n",
    "                exp = listToString(listaCopia2)\n",
    "                fun_sim_Y = sp.sympify(exp)\n",
    "                contador += 2\n",
    "                break\n",
    "            elif contador == 2:\n",
    "                listaCopia3[elemento] = 'z'\n",
    "                exp = listToString(listaCopia3)\n",
    "                fun_sim_Z = sp.sympify(exp)\n",
    "            else:\n",
    "                print('Demasiadas x')\n",
    "\n",
    "\n",
    "    ecuaciones = []\n",
    "    if(fun_sim_W != fun_sim_pto):\n",
    "        despejadaW = sp.solve(fun_sim_W, w)\n",
    "        ecuaciones.append(despejadaW)\n",
    "    if(fun_sim_Y != fun_sim_pto):\n",
    "        despejadaY = sp.solve(fun_sim_Y, y)\n",
    "        ecuaciones.append(despejadaY)\n",
    "    if(fun_sim_Z != fun_sim_pto):\n",
    "        despejadaZ = sp.solve(fun_sim_Z, z)\n",
    "        ecuaciones.append(despejadaZ)\n",
    "\n",
    "    print(\"Despejes de la ecuación para x:\\n\")\n",
    "    for ecuacion in ecuaciones:\n",
    "        display(Math(sp.latex(ecuacion)))\n",
    "\n",
    "    opcion = int(input(\"¿Qué despeje desea usar?\")) - 1\n",
    "    despeje = ecuaciones[opcion]\n",
    "    funcion_np_pto = sp.lambdify(x, despeje, 'numpy')\n",
    "    punto_fijo(funcion_np_pto)\n",
    "elif decision == 2:\n",
    "    fun_pto = input('Ingrese la función: ')\n",
    "    fun_sim_pto = sp.sympify(fun_pto)\n",
    "    display(Math(sp.latex(fun_sim_pto)))\n",
    "    funcion_np_pto = sp.lambdify(x, funcion_sim_pto, 'numpy')\n",
    "    punto_fijo(funcion_np_pto)\n"
   ]
  },
  {
   "cell_type": "markdown",
   "metadata": {},
   "source": [
    "## Newton Raphson\n",
    "\n",
    "Hay que usar exp(x) para el exponencial"
   ]
  },
  {
   "cell_type": "code",
   "execution_count": 37,
   "metadata": {
    "tags": []
   },
   "outputs": [
    {
     "name": "stdin",
     "output_type": "stream",
     "text": [
      "Ingrese la función:  0.8*(x^2)+x-3\n"
     ]
    },
    {
     "data": {
      "text/latex": [
       "$\\displaystyle 0.8 x^{2} + x - 3$"
      ],
      "text/plain": [
       "<IPython.core.display.Math object>"
      ]
     },
     "metadata": {},
     "output_type": "display_data"
    },
    {
     "name": "stdout",
     "output_type": "stream",
     "text": [
      "Derivada de la función: \n"
     ]
    },
    {
     "data": {
      "text/latex": [
       "$\\displaystyle 1.6 x + 1$"
      ],
      "text/plain": [
       "<IPython.core.display.Math object>"
      ]
     },
     "metadata": {},
     "output_type": "display_data"
    },
    {
     "name": "stdin",
     "output_type": "stream",
     "text": [
      "Ingrese el valor inicial de x0:  1\n"
     ]
    },
    {
     "name": "stdout",
     "output_type": "stream",
     "text": [
      "Iteración: 1 Resultado: 1.4615384615384615 Error: 0.46153846153846145\n",
      "Iteración: 2 Resultado: 1.4104927330733783 Error: 0.05104572846508315\n",
      "Iteración: 3 Resultado: 1.409852675176783 Error: 0.0006400578965952697\n",
      "Iteración: 4 Resultado: 1.409852574512466 Error: 1.0066431710420432e-07\n",
      "El resultado es: 1.409852574512466\n"
     ]
    }
   ],
   "source": [
    "def newton_raphson(func,func_prime,x_0,error=0.000001):\n",
    "    maxiter = 100\n",
    "    e = 1 \n",
    "    i = 0\n",
    "    while(i<maxiter and e>error):\n",
    "        res = func(x_0)#.evalf\n",
    "        res_prime = func_prime(x_0)#.evalf\n",
    "        #res_prime=float(res)\n",
    "        x = x_0 - (res/res_prime)\n",
    "        resultado = x\n",
    "        e_anterior = e\n",
    "        e = abs(resultado-x_0)\n",
    "        x_0 = resultado\n",
    "        i+=1\n",
    "        print(\"Iteración: \" + str(i) + \" Resultado: \" + str(resultado) + \" Error: \" + str(e))\n",
    "        if(e_anterior < e):\n",
    "            print(\"La función parece comportarse de manera errática, resultados no garantizados\")\n",
    "            #i=100\n",
    "    if(i==100):\n",
    "        print(\"Número máximo de iteraciones alcanzado\")\n",
    "    print(\"El resultado es: \" + str(resultado))\n",
    "\n",
    "\n",
    "w, x, y, z = sp.symbols(\"w x y z\")\n",
    "fun_nwt = input('Ingrese la función: ')\n",
    "fun_sim_nwt = sp.sympify(fun_nwt)\n",
    "#converter()\n",
    "display(Math(sp.latex(fun_sim_nwt)))\n",
    "fun_prime_sim_nwt = fun_sim_nwt.diff(x)\n",
    "print(\"Derivada de la función: \")\n",
    "display(Math(sp.latex(fun_prime_sim_nwt)))\n",
    "x_0 = float(input(\"Ingrese el valor inicial de x0: \"))\n",
    "fun_np_nwt = sp.lambdify(x,fun_sim_nwt,math)\n",
    "fun_prime_np_nwt = sp.lambdify(x,fun_prime_sim_nwt,math)\n",
    "newton_raphson(fun_np_nwt,fun_prime_np_nwt,x_0)\n",
    "\n"
   ]
  },
  {
   "cell_type": "markdown",
   "metadata": {},
   "source": [
    "## Falsa posición\n",
    "\n",
    "Hay que usar exp(x) para el exponencial"
   ]
  },
  {
   "cell_type": "code",
   "execution_count": 5,
   "metadata": {
    "tags": []
   },
   "outputs": [
    {
     "name": "stdin",
     "output_type": "stream",
     "text": [
      "Ingrese la función:  exp(x)\n"
     ]
    },
    {
     "data": {
      "text/latex": [
       "$\\displaystyle e^{x}$"
      ],
      "text/plain": [
       "<IPython.core.display.Math object>"
      ]
     },
     "metadata": {},
     "output_type": "display_data"
    },
    {
     "name": "stdin",
     "output_type": "stream",
     "text": [
      "Ingrese el valor de a:  5\n",
      "Ingrese el valor de b:  6\n"
     ]
    },
    {
     "name": "stdout",
     "output_type": "stream",
     "text": [
      "Los valores seleccionados de a y b no son válidos para el método\n"
     ]
    }
   ],
   "source": [
    "        \n",
    "def regula_falsi(f,a,b,e=0.00001):\n",
    "    if f(a) * f(b) >=0:\n",
    "        print(\"Los valores seleccionados de a y b no son válidos para el método\")\n",
    "    else:\n",
    "        max_iter = 100\n",
    "        error = 1\n",
    "        x_start = a - (b-a) * f(a) / (f(b)-f(a))\n",
    "        a = x_start\n",
    "        i = 0\n",
    "        xp = []\n",
    "        while (error > e and i < max_iter):\n",
    "            resultado = a - (b-a) * f(a) / (f(b)-f(a))\n",
    "            error = abs(resultado - a)\n",
    "            a = resultado\n",
    "            i += 1\n",
    "            print(\"Iteración: \" + str(i) + \" Resultado: \" +str(resultado) + \" Error: {:.10f}\".format(round(error, 10)))\n",
    "\n",
    "        print(\"El resultado del método es:\", resultado)\n",
    "\n",
    "\n",
    "w, x, y, z = sp.symbols(\"w x y z\")\n",
    "fun_fp = input('Ingrese la función: ')\n",
    "fun_sim_fp = sp.sympify(fun_fp)\n",
    "#converter()\n",
    "display(Math(sp.latex(fun_sim_fp)))\n",
    "fun_np_fp = sp.lambdify(x, fun_sim_fp, 'numpy')\n",
    "a = float(input(\"Ingrese el valor de a: \"))\n",
    "b = float(input(\"Ingrese el valor de b: \"))\n",
    "regula_falsi(fun_np_fp,a,b)\n",
    "\n",
    "\n",
    "  "
   ]
  },
  {
   "cell_type": "markdown",
   "metadata": {},
   "source": [
    "## Secante:\n",
    "\n",
    "Hay que usar exp(x) para el exponencial"
   ]
  },
  {
   "cell_type": "code",
   "execution_count": 14,
   "metadata": {
    "tags": []
   },
   "outputs": [
    {
     "name": "stdin",
     "output_type": "stream",
     "text": [
      "Ingrese la función:  2*x\n"
     ]
    },
    {
     "data": {
      "text/latex": [
       "$\\displaystyle 2 x$"
      ],
      "text/plain": [
       "<IPython.core.display.Math object>"
      ]
     },
     "metadata": {},
     "output_type": "display_data"
    },
    {
     "name": "stdout",
     "output_type": "stream",
     "text": [
      "Valores iniciales de 0 y 1 inválidos\n"
     ]
    }
   ],
   "source": [
    "def secante(f,x0,x1,e=0.00001):\n",
    "    if(f(x0)*f(x1) >=0):\n",
    "        print(\"Valores iniciales de 0 y 1 inválidos\")\n",
    "    else:\n",
    "        maxiter = 100\n",
    "        error = 1\n",
    "        xi = x0\n",
    "        xi_1 = x1\n",
    "        xi_2 = xi_1 - (f(xi_1)*(xi_1-xi)/f(xi_1)-f(xi))\n",
    "        xi=xi_1\n",
    "        xi_1=xi_2\n",
    "        i = 0\n",
    "        while(error > e and i < maxiter):\n",
    "            xi_2 = xi_1 - (f(xi_1)*(xi_1-xi)/f(xi_1)-f(xi))\n",
    "            error = abs(f(xi_1))\n",
    "            xi=xi_1\n",
    "            xi_1=xi_2\n",
    "            i+=1\n",
    "\n",
    "            print(\"Iteración: \" + str(i) + \" Resultado: \" +str(xi_1) + \" Error: {:.10f}\".format(round(error, 10)))\n",
    "        print(\"El resultado del método es:\", xi_1)\n",
    "        \n",
    "    \n",
    "\n",
    "w, x, y, z = sp.symbols(\"w x y z\")\n",
    "fun_sc = input('Ingrese la función: ')\n",
    "fun_sim_sc = sp.sympify(fun_sc)\n",
    "#converter()\n",
    "display(Math(sp.latex(fun_sim_sc)))\n",
    "fun_np_sc = sp.lambdify(x, fun_sim_sc, 'numpy')\n",
    "x0 = 0\n",
    "x1 = 1\n",
    "secante(fun_np_sc,x0,x1)"
   ]
  },
  {
   "cell_type": "code",
   "execution_count": null,
   "metadata": {},
   "outputs": [],
   "source": []
  }
 ],
 "metadata": {
  "kernelspec": {
   "display_name": "Python 3 (ipykernel)",
   "language": "python",
   "name": "python3"
  },
  "language_info": {
   "codemirror_mode": {
    "name": "ipython",
    "version": 3
   },
   "file_extension": ".py",
   "mimetype": "text/x-python",
   "name": "python",
   "nbconvert_exporter": "python",
   "pygments_lexer": "ipython3",
   "version": "3.8.12"
  }
 },
 "nbformat": 4,
 "nbformat_minor": 4
}
