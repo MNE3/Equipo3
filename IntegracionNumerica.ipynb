{
 "cells": [
  {
   "cell_type": "markdown",
   "metadata": {
    "tags": []
   },
   "source": [
    "# Integración numérica\n",
    "\n",
    "## ¿Qué es?\n",
    "\n",
    "La integración numérica consiste en el uso de diversos algoritmos creados para calcular el valor numérico de una integral definida, existen múlitples razones para preferir el uso de la integración numérica a una solución analítica. La principal puede ser la imposibilidad de realizar la integración de forma analítica. Es decir, integrales que requerirían de un gran conocimiento y manejo de matemática avanzada pueden ser resueltas de una manera más sencilla mediante métodos numéricos. Incluso existen funciones integrables pero cuya primitiva no puede ser calculada, siendo la integración numérica de vital importancia. La solución analítica de una integral nos arrojaría una solución exacta, mientras que la solución numérica nos daría una solución aproximada.\n",
    "\n",
    "## ¿Cuál es su solución?\n",
    "\n",
    "Para que un problema de integración numérica se considere resuelto, se tiene que obtener una aproximación al resultado de la integración definida de una función de un límite superior a un límite inferior. Esta aproximación se obtiene aplicando distintos métodos numéricos, en este caso se usarán los siguientes:\n",
    "   * Regla trapezoidal\n",
    "   * Newton Cotes Cerradas\n",
    "   * Newton Cotes Abiertas\n",
    "   * Regla de $\\dfrac{1}{3}$ de Simpson \n",
    "   * Regla de $\\dfrac{3}{8}$ de Simpson \n"
   ]
  },
  {
   "cell_type": "code",
   "execution_count": 15,
   "metadata": {
    "jupyter": {
     "source_hidden": true
    },
    "tags": []
   },
   "outputs": [],
   "source": [
    "%matplotlib widget\n",
    "import numpy as np\n",
    "import matplotlib.pyplot as plt\n",
    "import sys\n",
    "import sympy as sp\n",
    "sp.init_printing(use_latex='mathjax')\n",
    "from IPython.display import Math,display"
   ]
  },
  {
   "cell_type": "markdown",
   "metadata": {},
   "source": [
    "## Regla trapezoidal:\n",
    "\n",
    "### ¿Cómo funciona?\n",
    "La regla se basa en aproximar el valor de la integral de $f(x)$ por el de la función lineal, que pasa a través de los puntos $(a,f(a))$ y $(b,f(b))$. La integral de ésta es igual al área del trapecio bajo la gráfica de la función lineal. Se tienen que usar polinomios de primer grado.\n",
    "\n",
    "Su fórmula es:\n",
    "\n",
    "$I = \\dfrac{h}{2} \\left(f(a)+2\\sum_{i=1}^{n-1}f(a+ih)+f(b)\\right)$\n",
    "\n",
    "Donde la integral a integrar se define como:\n",
    "\n",
    "$\\int_{a}^{b} f(x) \\,dx$\n",
    "\n",
    "Para calcular el valor de $h$, se usa la fórmula $h = \\dfrac{b-a}{n}$\n",
    "\n",
    "### ¿Cómo la puedo usar?\n",
    "\n",
    "Para usar este método, primero hay que ingresar la función a integrar.\n",
    "El formato de funciones aceptado en esta libreta es el siguiente:\n",
    "   * Para representar productos $3x$ hay que ingresar ```3*x```\n",
    "   * Para representar funciones trigonométricas $sen(x)$ hay que usar ```sin(x)```, las demás permanecen igual\n",
    "   * Para representar exponenciales $e^x$ hay que usar ```exp(x)``` salvo un caso en específico que se detalla adelante.\n",
    "   * Para representar potencias $x^2$ hay que usar ```x^2```\n",
    "   \n",
    "Un ejemplo de una ecuación ingresada sería $3x-sin(x)+e^x$ es: ```3*x -sin(x)+exp(x)```\n",
    "\n",
    "Después de ingresar la función, hay que ingresar el límite superior a evaluar que se representa como $a$ y el límite inferior a evaluar que se representa como $b$. Posterior a eso, se ingresa el número de subintervalos del trapezio, representado con la variable $n$. Finalmente, el método mostrará el resultado de la aproximación"
   ]
  },
  {
   "cell_type": "code",
   "execution_count": 28,
   "metadata": {
    "jupyter": {
     "source_hidden": true
    },
    "tags": []
   },
   "outputs": [
    {
     "name": "stdin",
     "output_type": "stream",
     "text": [
      "Ingrese la función a integrar 6*x + sin(x)\n"
     ]
    },
    {
     "data": {
      "text/latex": [
       "$\\displaystyle 6 x + \\sin{\\left(x \\right)}$"
      ],
      "text/plain": [
       "<IPython.core.display.Math object>"
      ]
     },
     "metadata": {},
     "output_type": "display_data"
    },
    {
     "name": "stdin",
     "output_type": "stream",
     "text": [
      "Ingrese el límite inferior del rango de evaluación 1\n",
      "Ingrese el límite superior del rango de evaluación 2\n",
      "Ingrese el número de subintervalos de la integral 2\n"
     ]
    },
    {
     "name": "stdout",
     "output_type": "stream",
     "text": [
      "El resultado de la integral es:  9.936439596210421\n"
     ]
    }
   ],
   "source": [
    "import numpy as np\n",
    "from mpmath import findroot\n",
    "def integral_iterar(integral,a,b,n):\n",
    "    h = (b-a)/n\n",
    "    afuera = h/2\n",
    "    primer_termino = integral(a)\n",
    "    terminos_sumatoria = []\n",
    "    for i in range (1,n):\n",
    "        i_h = i*h\n",
    "        a_sumada = a + i_h\n",
    "        termino_suma = integral(a_sumada)\n",
    "        terminos_sumatoria.append(termino_suma)\n",
    "    segundo_termino_sin_sumar = np.multiply(2, terminos_sumatoria)\n",
    "    segundo_termino_sumado = np.sum(segundo_termino_sin_sumar)\n",
    "    tercer_termino = integral(b)\n",
    "    suma_interna = primer_termino + segundo_termino_sumado + tercer_termino\n",
    "    resultado = afuera * suma_interna\n",
    "    return resultado\n",
    "x, y, z = sp.symbols(\"x y z\")\n",
    "funcion_string = input(\"Ingrese la función a integrar\")\n",
    "funcion_sp = sp.sympify(funcion_string)\n",
    "display(Math(sp.latex(funcion_sp)))\n",
    "funcion_integrar_np = sp.lambdify(x,funcion_sp, \"numpy\")\n",
    "a = float(input(\"Ingrese el límite inferior del rango de evaluación\"))\n",
    "b = float(input(\"Ingrese el límite superior del rango de evaluación\"))\n",
    "n = int(input(\"Ingrese el número de subintervalos de la integral\"))\n",
    "resultado = integral_iterar(funcion_integrar_np,a,b,n )\n",
    "print(\"El resultado de la integral es: \",resultado)\n"
   ]
  },
  {
   "cell_type": "markdown",
   "metadata": {},
   "source": [
    "##### Newton Cotes Cerradas:\n"
   ]
  },
  {
   "cell_type": "code",
   "execution_count": 22,
   "metadata": {
    "jupyter": {
     "source_hidden": true
    },
    "tags": []
   },
   "outputs": [
    {
     "name": "stdin",
     "output_type": "stream",
     "text": [
      "Ingrese la función a integrar 2\n"
     ]
    },
    {
     "data": {
      "text/latex": [
       "$\\displaystyle 2$"
      ],
      "text/plain": [
       "<IPython.core.display.Math object>"
      ]
     },
     "metadata": {},
     "output_type": "display_data"
    },
    {
     "name": "stdin",
     "output_type": "stream",
     "text": [
      "Ingrese el límite inferior del rango de evaluación 2\n",
      "Ingrese el límite superior del rango de evaluación 1\n",
      "Ingrese el número de subintervalos de la integral 5\n"
     ]
    },
    {
     "name": "stdout",
     "output_type": "stream",
     "text": [
      "h:  -0.2\n",
      "alfa:  0.006944444444444444\n",
      "Término de i = 0:  38\n",
      "Término de i = 1:  150\n",
      "Término de i = 2:  100\n",
      "Término de i = 3:  100\n",
      "Término de i = 4:  150\n",
      "Término de i = 5:  38\n",
      "Suma interna:  576\n",
      "El resultado de la integral es:  -0.8\n"
     ]
    }
   ],
   "source": [
    "def newton_cerradas(funcion_integrar, a,b,n):\n",
    "    dic_alfas = {1:1/2, 2:1/3, 3:3/8, 4:2/45, 5:2/288, 6:1/140,7:7/17280,8:14/14175,9:9/89600,10:5/299376}\n",
    "    alfa = dic_alfas.get(n)\n",
    "    dic_n1 = {0:1,1:1}\n",
    "    dic_n2 = {0:1,1:4,2:1}\n",
    "    dic_n3 = {0:1,1:3,2:3,3:1}\n",
    "    dic_n4 = {0:7,1:32,2:12,3:32,4:7}\n",
    "    dic_n5 = {0:19,1:75,2:50,3:50,4:75,5:19}\n",
    "    dic_n6 = {0:41,1:216,2:27,3:272,4:27,5:216,6:41}\n",
    "    dic_n7 = {0:751,1:3577,2:1323,3:2989,4:2989,5:1323,6:3577,7:751}\n",
    "    dic_n8 = {0:989,1:5888,2:-928,3:10946,4:-4540,5:10946,6:-928,7:5888,8:989}\n",
    "    dic_n9 = {0:2857,1:15741,2:1080,3:19344,4:5788,5:5788,6:19344,7:1080,8:15741,9:2857}\n",
    "    dic_n10 = {0:16067,1:106300,2:-48525,3:272400,4:-260550,5:427368,6:-260550,7:272400,8:-48525,9:106300,10:16067}\n",
    "    dic_constantes = {1:dic_n1,2:dic_n2,3:dic_n3,4:dic_n4,5:dic_n5,6:dic_n6,7:dic_n7,8:dic_n8,9:dic_n9,10:dic_n10}\n",
    "    constantes = dic_constantes.get(n)\n",
    "    \n",
    "    h = (b-a)/n\n",
    "    afuera = alfa * h\n",
    "    print(\"h: \",h)\n",
    "    print(\"alfa: \",alfa)\n",
    "    sumatoria_terminos = []\n",
    "    \n",
    "    for i in range(0,n+1):\n",
    "        wi = constantes.get(i)\n",
    "        ih = i*h\n",
    "        a_ih = a+ih\n",
    "        resultado_parcial = funcion_integrar(a_ih)\n",
    "        completo = wi * resultado_parcial\n",
    "        print(\"Término de i = \" + str(i) + \": \", completo)\n",
    "        sumatoria_terminos.append(completo)\n",
    "    \n",
    "    suma_interna = np.sum(sumatoria_terminos)\n",
    "    print(\"Suma interna: \",suma_interna)\n",
    "    resultado = afuera * suma_interna\n",
    "    return resultado\n",
    "\n",
    "\n",
    "x, y, z = sp.symbols(\"x y z\")\n",
    "funcion_string = input(\"Ingrese la función a integrar\")\n",
    "funcion_sp = sp.sympify(funcion_string)\n",
    "display(Math(sp.latex(funcion_sp)))\n",
    "funcion_integrar_np = sp.lambdify(x,funcion_sp, \"numpy\")\n",
    "a = float(input(\"Ingrese el límite inferior del rango de evaluación\"))\n",
    "b = float(input(\"Ingrese el límite superior del rango de evaluación\"))\n",
    "n = int(input(\"Ingrese el número de subintervalos de la integral\"))\n",
    "\n",
    "resultado = newton_cerradas(funcion_integrar_np, a,b,n)\n",
    "print(\"El resultado de la integral es: \", resultado)"
   ]
  },
  {
   "cell_type": "markdown",
   "metadata": {},
   "source": [
    "## Newton Cotes Abiertas"
   ]
  },
  {
   "cell_type": "code",
   "execution_count": 23,
   "metadata": {
    "jupyter": {
     "source_hidden": true
    },
    "tags": []
   },
   "outputs": [
    {
     "name": "stdin",
     "output_type": "stream",
     "text": [
      "Ingrese la función a integrar 2\n"
     ]
    },
    {
     "data": {
      "text/latex": [
       "$\\displaystyle 2$"
      ],
      "text/plain": [
       "<IPython.core.display.Math object>"
      ]
     },
     "metadata": {},
     "output_type": "display_data"
    },
    {
     "name": "stdin",
     "output_type": "stream",
     "text": [
      "Ingrese el límite inferior del rango de evaluación 5\n",
      "Ingrese el límite superior del rango de evaluación 2\n",
      "Ingrese el número de subintervalos de la integral 2\n"
     ]
    },
    {
     "name": "stdout",
     "output_type": "stream",
     "text": [
      "h:  -0.75\n",
      "alfa:  1.3333333333333333\n",
      "Término de i = 0:  0\n",
      "Término de i = 1:  4\n",
      "Término de i = 2:  -2\n",
      "Término de i = 3:  4\n",
      "Término de i = 4:  0\n",
      "Suma interna:  6\n",
      "El resultado de la integral es:  -6.0\n"
     ]
    }
   ],
   "source": [
    "def newton_abiertas(funcion_integrar, a,b,n):\n",
    "    dic_alfas = {1:3/2, 2:4/3, 3:5/24, 4:6/20, 5:7/1440, 6:8/945}\n",
    "    alfa = dic_alfas.get(n)\n",
    "    dic_n1 = {0:0,1:1,2:1,3:0}\n",
    "    dic_n2 = {0:0,1:2,2:-1,3:2,4:0}\n",
    "    dic_n3 = {0:0,1:11,2:1,3:1,4:11,5:0}\n",
    "    dic_n4 = {0:0,1:11,2:-14,3:26,4:-14,5:11,6:0}\n",
    "    dic_n5 = {0:0,1:611,2:-453,3:562,4:562,5:-453,6:611,7:0}\n",
    "    dic_n6 = {0:0,1:460,2:-954,3:2196,4:-2459,5:2196,6:-954,7:460,8:0}\n",
    "    dic_constantes = {1:dic_n1,2:dic_n2,3:dic_n3,4:dic_n4,5:dic_n5,6:dic_n6}\n",
    "    constantes = dic_constantes.get(n)\n",
    "    \n",
    "    h = (b-a)/(n+2)\n",
    "    afuera = alfa * h\n",
    "    print(\"h: \",h)\n",
    "    print(\"alfa: \",alfa)\n",
    "    sumatoria_terminos = []\n",
    "    \n",
    "    for i in range(0,n+3):\n",
    "        wi = constantes.get(i)\n",
    "        ih = i*h\n",
    "        a_ih = a+ih\n",
    "        resultado_parcial = funcion_integrar(a_ih)\n",
    "        completo = wi * resultado_parcial\n",
    "        print(\"Término de i = \" + str(i) + \": \", completo)\n",
    "        sumatoria_terminos.append(completo)\n",
    "    \n",
    "    suma_interna = np.sum(sumatoria_terminos)\n",
    "    print(\"Suma interna: \", suma_interna)\n",
    "    resultado = afuera * suma_interna\n",
    "    return resultado\n",
    "\n",
    "\n",
    "x, y, z = sp.symbols(\"x y z\")\n",
    "funcion_string = input(\"Ingrese la función a integrar\")\n",
    "funcion_sp = sp.sympify(funcion_string)\n",
    "display(Math(sp.latex(funcion_sp)))\n",
    "funcion_integrar_np = sp.lambdify(x,funcion_sp, \"numpy\")\n",
    "a = float(input(\"Ingrese el límite inferior del rango de evaluación\"))\n",
    "b = float(input(\"Ingrese el límite superior del rango de evaluación\"))\n",
    "n = int(input(\"Ingrese el número de subintervalos de la integral\"))\n",
    "\n",
    "resultado = newton_abiertas(funcion_integrar_np, a,b,n)\n",
    "print(\"El resultado de la integral es: \", resultado)"
   ]
  },
  {
   "cell_type": "markdown",
   "metadata": {},
   "source": [
    "## Regla de $\\dfrac{1}{3}$ de Simpson"
   ]
  },
  {
   "cell_type": "code",
   "execution_count": 25,
   "metadata": {
    "jupyter": {
     "source_hidden": true
    },
    "tags": []
   },
   "outputs": [
    {
     "name": "stdin",
     "output_type": "stream",
     "text": [
      "Ingrese la función a integrar 8\n"
     ]
    },
    {
     "data": {
      "text/latex": [
       "$\\displaystyle 8$"
      ],
      "text/plain": [
       "<IPython.core.display.Math object>"
      ]
     },
     "metadata": {},
     "output_type": "display_data"
    },
    {
     "name": "stdin",
     "output_type": "stream",
     "text": [
      "Ingrese el límite inferior del rango de evaluación 2\n",
      "Ingrese el límite superior del rango de evaluación 8\n",
      "Ingrese el número de subintervalos de la integral 3\n"
     ]
    },
    {
     "name": "stdout",
     "output_type": "stream",
     "text": [
      "h:  2.0\n",
      "Primer término f(a) :  8\n",
      "Calculando los terminos de la primera sumatoria: \n",
      "Término de i = 1para el valor de a+ih:  4.0  :  8\n",
      "El resultado de 4sigma es:  32\n",
      "Calculando los terminos de la primera sumatoria: \n",
      "El resultado de 2sigma es:  0.0\n",
      "Tercer término f(b) :  8\n",
      "Suma interna:  48.0\n",
      "El resultado de la integral es:  32.0\n"
     ]
    }
   ],
   "source": [
    "import numpy as np\n",
    "def simpson_13(integral,a,b,n):\n",
    "    h = (b-a)/n\n",
    "    print(\"h: \",h)\n",
    "    afuera = h/3\n",
    "    primer_termino = integral(a)\n",
    "    print(\"Primer término f(a) : \",primer_termino)\n",
    "    terminos_sumatoria_4 = []\n",
    "    print(\"Calculando los terminos de la primera sumatoria: \")\n",
    "    for i in range (1,n):\n",
    "        if i%2 !=0:\n",
    "            i_h = i*h\n",
    "            a_sumada = a + i_h\n",
    "            termino_suma = integral(a_sumada)\n",
    "            print(\"Término de i = \" + str(i) + \"para el valor de a+ih: \",a_sumada,\" : \",termino_suma)\n",
    "            terminos_sumatoria_4.append(termino_suma)\n",
    "    suma_de4 = np.sum(terminos_sumatoria_4)\n",
    "    suma_por4 = np.multiply(suma_de4,4)\n",
    "    print(\"El resultado de 4sigma es: \", suma_por4)\n",
    "    \n",
    "    terminos_sumatoria_2 = []\n",
    "    print(\"Calculando los terminos de la primera sumatoria: \")\n",
    "    for i in range (2,n-1):\n",
    "        if i%2==0:\n",
    "            i_h = i*h\n",
    "            a_sumada = a + i_h\n",
    "            termino_suma = integral(a_sumada)\n",
    "            print(\"Término de i = \" + str(i) + \"para el valor de a+ih: \",a_sumada,\" : \",termino_suma)\n",
    "            terminos_sumatoria_2.append(termino_suma)\n",
    "    suma_de2 = np.sum(terminos_sumatoria_2)\n",
    "    suma_por2 = np.multiply(suma_de2, 2)\n",
    "    print(\"El resultado de 2sigma es: \", suma_por2)\n",
    "    \n",
    "    segundo_termino= suma_por4 + suma_por2\n",
    "    \n",
    "    tercer_termino = integral(b)\n",
    "    print(\"Tercer término f(b) : \",tercer_termino)\n",
    "\n",
    "    suma_interna = primer_termino + segundo_termino + tercer_termino\n",
    "    print(\"Suma interna: \", suma_interna)\n",
    "    resultado = afuera * suma_interna\n",
    "    return resultado\n",
    "x, y, z = sp.symbols(\"x y z\")\n",
    "funcion_string = input(\"Ingrese la función a integrar\")\n",
    "funcion_sp = sp.sympify(funcion_string)\n",
    "display(Math(sp.latex(funcion_sp)))\n",
    "funcion_integrar_np = sp.lambdify(x,funcion_sp, \"numpy\")\n",
    "a = float(input(\"Ingrese el límite inferior del rango de evaluación\"))\n",
    "b = float(input(\"Ingrese el límite superior del rango de evaluación\"))\n",
    "n = int(input(\"Ingrese el número de subintervalos de la integral\"))\n",
    "resultado = simpson_13(funcion_integrar_np,a,b,n )\n",
    "print(\"El resultado de la integral es: \",resultado)\n"
   ]
  },
  {
   "cell_type": "markdown",
   "metadata": {},
   "source": [
    "## Regla de $\\dfrac{3}{8}$ de Simpson:\n"
   ]
  },
  {
   "cell_type": "code",
   "execution_count": 26,
   "metadata": {
    "jupyter": {
     "source_hidden": true
    },
    "tags": []
   },
   "outputs": [
    {
     "name": "stdin",
     "output_type": "stream",
     "text": [
      "Ingrese la función a integrar 5\n"
     ]
    },
    {
     "data": {
      "text/latex": [
       "$\\displaystyle 5$"
      ],
      "text/plain": [
       "<IPython.core.display.Math object>"
      ]
     },
     "metadata": {},
     "output_type": "display_data"
    },
    {
     "name": "stdin",
     "output_type": "stream",
     "text": [
      "Ingrese el límite inferior del rango de evaluación 2\n",
      "Ingrese el límite superior del rango de evaluación 1\n",
      "Ingrese el número de subintervalos de la integral 22\n"
     ]
    },
    {
     "name": "stdout",
     "output_type": "stream",
     "text": [
      "h:  -0.045454545454545456\n",
      "Primer término f(a) :  5\n",
      "Calculando los terminos de la primera sumatoria: \n",
      "Término de i = 1para el valor de a+ih:  1.9545454545454546  :  5\n",
      "Término de i = 2para el valor de a+ih:  1.9090909090909092  :  5\n",
      "Término de i = 3para el valor de a+ih:  1.8636363636363638  :  5\n",
      "Término de i = 4para el valor de a+ih:  1.8181818181818181  :  5\n",
      "Término de i = 5para el valor de a+ih:  1.7727272727272727  :  5\n",
      "Término de i = 6para el valor de a+ih:  1.7272727272727273  :  5\n",
      "Término de i = 7para el valor de a+ih:  1.6818181818181819  :  5\n",
      "Término de i = 8para el valor de a+ih:  1.6363636363636362  :  5\n",
      "Término de i = 9para el valor de a+ih:  1.5909090909090908  :  5\n",
      "Término de i = 10para el valor de a+ih:  1.5454545454545454  :  5\n",
      "Término de i = 11para el valor de a+ih:  1.5  :  5\n",
      "Término de i = 12para el valor de a+ih:  1.4545454545454546  :  5\n",
      "Término de i = 13para el valor de a+ih:  1.4090909090909092  :  5\n",
      "Término de i = 14para el valor de a+ih:  1.3636363636363638  :  5\n",
      "Término de i = 15para el valor de a+ih:  1.3181818181818181  :  5\n",
      "Término de i = 16para el valor de a+ih:  1.2727272727272727  :  5\n",
      "Término de i = 17para el valor de a+ih:  1.2272727272727273  :  5\n",
      "Término de i = 18para el valor de a+ih:  1.1818181818181817  :  5\n",
      "Término de i = 19para el valor de a+ih:  1.1363636363636362  :  5\n",
      "Término de i = 20para el valor de a+ih:  1.0909090909090908  :  5\n",
      "Término de i = 21para el valor de a+ih:  1.0454545454545454  :  5\n",
      "El resultado de 3sigma es:  315\n",
      "Tercer término f(b) :  5\n",
      "Suma interna:  325\n",
      "El resultado de la integral es:  -5.539772727272727\n"
     ]
    }
   ],
   "source": [
    "import numpy as np\n",
    "def simpson_38(integral,a,b,n):\n",
    "    h = (b-a)/n\n",
    "    print(\"h: \",h)\n",
    "    afuera = h * (3/8)\n",
    "    primer_termino = integral(a)\n",
    "    print(\"Primer término f(a) : \",primer_termino)\n",
    "    \n",
    "    terminos_sumatoria = []\n",
    "    print(\"Calculando los terminos de la primera sumatoria: \")\n",
    "    for i in range (1,n):\n",
    "        i_h = i*h\n",
    "        a_sumada = a + i_h\n",
    "        termino_suma = integral(a_sumada)\n",
    "        print(\"Término de i = \" + str(i) + \"para el valor de a+ih: \",a_sumada,\" : \",termino_suma)\n",
    "        terminos_sumatoria.append(termino_suma)\n",
    "        suma = np.sum(terminos_sumatoria)\n",
    "    suma_por3 = np.multiply(suma,3)\n",
    "    print(\"El resultado de 3sigma es: \", suma_por3)\n",
    "    tercer_termino = integral(b)\n",
    "    print(\"Tercer término f(b) : \",tercer_termino)\n",
    "\n",
    "    suma_interna = primer_termino + suma_por3 + tercer_termino\n",
    "    print(\"Suma interna: \", suma_interna)\n",
    "    resultado = afuera * suma_interna\n",
    "    return resultado\n",
    "x, y, z = sp.symbols(\"x y z\")\n",
    "funcion_string = input(\"Ingrese la función a integrar\")\n",
    "funcion_sp = sp.sympify(funcion_string)\n",
    "display(Math(sp.latex(funcion_sp)))\n",
    "funcion_integrar_np = sp.lambdify(x,funcion_sp, \"numpy\")\n",
    "a = float(input(\"Ingrese el límite inferior del rango de evaluación\"))\n",
    "b = float(input(\"Ingrese el límite superior del rango de evaluación\"))\n",
    "n = int(input(\"Ingrese el número de subintervalos de la integral\"))\n",
    "resultado = simpson_38(funcion_integrar_np,a,b,n )\n",
    "print(\"El resultado de la integral es: \",resultado)\n"
   ]
  },
  {
   "cell_type": "code",
   "execution_count": null,
   "metadata": {
    "jupyter": {
     "source_hidden": true
    }
   },
   "outputs": [],
   "source": []
  }
 ],
 "metadata": {
  "kernelspec": {
   "display_name": "Python 3 (ipykernel)",
   "language": "python",
   "name": "python3"
  },
  "language_info": {
   "codemirror_mode": {
    "name": "ipython",
    "version": 3
   },
   "file_extension": ".py",
   "mimetype": "text/x-python",
   "name": "python",
   "nbconvert_exporter": "python",
   "pygments_lexer": "ipython3",
   "version": "3.8.12"
  }
 },
 "nbformat": 4,
 "nbformat_minor": 4
}
